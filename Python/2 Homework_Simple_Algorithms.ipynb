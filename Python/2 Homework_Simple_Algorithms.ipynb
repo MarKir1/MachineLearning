{
 "cells": [
  {
   "cell_type": "code",
   "execution_count": 2,
   "metadata": {},
   "outputs": [
    {
     "name": "stdout",
     "output_type": "stream",
     "text": [
      "6\n",
      "7\n",
      "8\n",
      "5\n",
      "1 98 "
     ]
    }
   ],
   "source": [
    "a = int(input())\n",
    "b = int(input())\n",
    "c = int(input())\n",
    "d = int(input())\n",
    "if d >= b:\n",
    "    e = c - a\n",
    "    f = d - b\n",
    "else:\n",
    "    e = c - a - 1\n",
    "    f = 100 - (b - d)\n",
    "print (e, f, end =' ')"
   ]
  },
  {
   "cell_type": "code",
   "execution_count": 6,
   "metadata": {},
   "outputs": [
    {
     "name": "stdout",
     "output_type": "stream",
     "text": [
      "12\n",
      "YES\n"
     ]
    }
   ],
   "source": [
    "k = int(input())\n",
    "if k%3==0 or k%5==0 or k%8%3==0 or k%8%5==0:\n",
    "    print('YES')\n",
    "else:\n",
    "    print('NO')"
   ]
  },
  {
   "cell_type": "code",
   "execution_count": 1,
   "metadata": {},
   "outputs": [
    {
     "name": "stdout",
     "output_type": "stream",
     "text": [
      "20\n",
      "22\n",
      "24\n",
      "66\n"
     ]
    }
   ],
   "source": [
    "k = int(input())\n",
    "m = int(input())\n",
    "n = int(input())\n",
    "if n<=k:\n",
    "  t = 2*m\n",
    "elif n*2 % k==0:\n",
    "  t = m*(n*2 // k)\n",
    "else:\n",
    "  t = m*(1+(n*2 // k))\n",
    "print(t)"
   ]
  },
  {
   "cell_type": "code",
   "execution_count": 7,
   "metadata": {},
   "outputs": [
    {
     "name": "stdout",
     "output_type": "stream",
     "text": [
      "1\n",
      "2\n",
      "4\n",
      "5\n",
      "YES\n"
     ]
    }
   ],
   "source": [
    "x1 = int(input())\n",
    "y1 = int(input())\n",
    "x2 = int(input())\n",
    "y2 = int(input())\n",
    "if (x1 * x2) > 0 and (y1 * y2) > 0:\n",
    "    print('YES')\n",
    "else:\n",
    "    print('NO')"
   ]
  },
  {
   "cell_type": "code",
   "execution_count": 9,
   "metadata": {},
   "outputs": [
    {
     "name": "stdout",
     "output_type": "stream",
     "text": [
      "1\n",
      "2\n",
      "3\n",
      "NO\n"
     ]
    }
   ],
   "source": [
    "a = float(input())\n",
    "b = float(input())\n",
    "c = float(input())\n",
    "if a + b > c and a + c > b and b + c > a:\n",
    "    print(\"YES\")\n",
    "else:\n",
    "    print(\"NO\")"
   ]
  },
  {
   "cell_type": "code",
   "execution_count": 2,
   "metadata": {},
   "outputs": [
    {
     "name": "stdout",
     "output_type": "stream",
     "text": [
      "2\n",
      "5\n",
      "7\n",
      "NO\n"
     ]
    }
   ],
   "source": [
    "a = float(input())\n",
    "b = float(input())\n",
    "c = float(input())\n",
    "if a + b > c and a + c > b and b + c > a:\n",
    "    print(\"YES\")\n",
    "else:\n",
    "    print(\"NO\")"
   ]
  },
  {
   "cell_type": "code",
   "execution_count": 11,
   "metadata": {},
   "outputs": [
    {
     "name": "stdout",
     "output_type": "stream",
     "text": [
      "2\n",
      "2\n",
      "2\n",
      "3\n"
     ]
    }
   ],
   "source": [
    "a = int(input())\n",
    "b = int(input())\n",
    "c = int(input())\n",
    "if a == b and b == c:\n",
    "    print(\"3\")\n",
    "elif a == b or b == c or a == c:\n",
    "    print('2')\n",
    "else:\n",
    "    print(\"0\")"
   ]
  },
  {
   "cell_type": "code",
   "execution_count": 13,
   "metadata": {},
   "outputs": [
    {
     "name": "stdout",
     "output_type": "stream",
     "text": [
      "5\n",
      "6\n",
      "7\n"
     ]
    }
   ],
   "source": [
    "a = int(input())\n",
    "b = int(input())\n",
    "c = int(input())\n",
    "D = ((b**2) - (4 * a * c))\n",
    "if D>0:\n",
    "    q = ((-1) * b + D**0.5)/(2*a)  \n",
    "    print(q)\n",
    "    q1 = ((-1) * b - D**0.5)/(2*a)    \n",
    "    print(q1)\n",
    "elif D==0:\n",
    "    q2= (-1)*b/(2*a)\n",
    "    print(q2)\n",
    "elif c==0:\n",
    "    q4 = -b // a\n",
    "    print(0)\n",
    "    print(q4)"
   ]
  },
  {
   "cell_type": "code",
   "execution_count": 3,
   "metadata": {},
   "outputs": [
    {
     "name": "stdout",
     "output_type": "stream",
     "text": [
      "40\n",
      "60\n",
      "70\n",
      "acute\n"
     ]
    }
   ],
   "source": [
    "import math \n",
    "a=int(input())\n",
    "b=int(input())\n",
    "c=int(input())\n",
    "a,b,c=sorted([a, b, c])\n",
    "if a+b<=c:\n",
    "    print('impossible')\n",
    "elif c==math.sqrt((a**2)+(b**2)):\n",
    "    print('rectangular')\n",
    "elif ((a**2)+(b**2)-(c**2))/(2*a*b)>0:\n",
    "    print('acute')\n",
    "else:\n",
    "    print('obtuse')"
   ]
  },
  {
   "cell_type": "code",
   "execution_count": 16,
   "metadata": {},
   "outputs": [
    {
     "name": "stdout",
     "output_type": "stream",
     "text": [
      "10\n",
      "10  korov\n"
     ]
    }
   ],
   "source": [
    "n=int(input())\n",
    "if (n % 10 == 1) and (n != 11):\n",
    "    print(n, ' korova')\n",
    "if (n % 10 > 1) and (n % 10 < 5) and ((n < 10) or (n > 20)):\n",
    "    print(n, ' korovy')\n",
    "if (n % 10 > 4) or (n % 10 == 0) or (n > 9) and (n < 21):\n",
    "    print(n, ' korov')"
   ]
  },
  {
   "cell_type": "code",
   "execution_count": 17,
   "metadata": {},
   "outputs": [
    {
     "name": "stdout",
     "output_type": "stream",
     "text": [
      "20\n",
      "1 2 4 5 10 20 "
     ]
    }
   ],
   "source": [
    "n=int(input())\n",
    "for i in range (1, n + 1):\n",
    "    if n % i == 0:\n",
    "        print(i, end = \" \")"
   ]
  },
  {
   "cell_type": "code",
   "execution_count": 18,
   "metadata": {},
   "outputs": [
    {
     "name": "stdout",
     "output_type": "stream",
     "text": [
      "20\n",
      "6\n"
     ]
    }
   ],
   "source": [
    "n=int(input())\n",
    "k = 0\n",
    "for i in range (1, n + 1):\n",
    "    if n % i == 0:\n",
    "        k+=1\n",
    "print(k)"
   ]
  },
  {
   "cell_type": "code",
   "execution_count": 20,
   "metadata": {},
   "outputs": [
    {
     "name": "stdout",
     "output_type": "stream",
     "text": [
      "5\n",
      "1\n",
      "2\n",
      "3\n",
      "0\n",
      "1\n",
      "YES\n"
     ]
    }
   ],
   "source": [
    "if 0 in [int(input()) for _ in range(int(input()))]:\n",
    "    print('YES')\n",
    "else:\n",
    "    print('NO')"
   ]
  },
  {
   "cell_type": "code",
   "execution_count": 25,
   "metadata": {},
   "outputs": [
    {
     "name": "stdout",
     "output_type": "stream",
     "text": [
      "2\n",
      "4\n",
      "6\n",
      "7\n"
     ]
    }
   ],
   "source": [
    "a = int(input())\n",
    "b = int(input())\n",
    "c = int(input())\n",
    "d = int(input())\n",
    "for x in range(1000 + 1):\n",
    "    if a * x ** 3 + b * x**2 + c * x + d == 0:\n",
    "        print(x)"
   ]
  },
  {
   "cell_type": "code",
   "execution_count": 6,
   "metadata": {},
   "outputs": [
    {
     "name": "stdout",
     "output_type": "stream",
     "text": [
      "10\n",
      "1\n",
      "2\n",
      "2\n",
      "3\n",
      "3\n",
      "3\n",
      "4\n",
      "4\n",
      "4\n",
      "4\n"
     ]
    }
   ],
   "source": [
    "s = int(input())\n",
    "t=1\n",
    "k=1\n",
    "while k<s:\n",
    "  for i in range(t):\n",
    "    print(t)\n",
    "  t=t+1\n",
    "  k=k+t\n",
    "for i in range(k-t,s):\n",
    "  print(t)"
   ]
  },
  {
   "cell_type": "code",
   "execution_count": 7,
   "metadata": {},
   "outputs": [
    {
     "name": "stdout",
     "output_type": "stream",
     "text": [
      "100\n",
      "0   1\n"
     ]
    }
   ],
   "source": [
    "a = int(input())\n",
    "b = 10\n",
    "c = -10\n",
    "while a > 0:\n",
    "    if (a % 10 > c):\n",
    "        c = a % 10\n",
    "    if (a % 10 < b):\n",
    "        b = a % 10\n",
    "    a = a // 10\n",
    "print(b, ' ', c)"
   ]
  },
  {
   "cell_type": "code",
   "execution_count": null,
   "metadata": {},
   "outputs": [],
   "source": [
    "k = int(input())\n",
    "count = 0\n",
    "for l in range(1, k+1):\n",
    "    r = 0\n",
    "    m = l\n",
    "    while m > 0:\n",
    "        r = r * 10 + m % 10\n",
    "        m = m // 10\n",
    "    if r = l:\n",
    "        count = count + 1\n",
    "print(count)"
   ]
  }
 ],
 "metadata": {
  "kernelspec": {
   "display_name": "Python 3",
   "language": "python",
   "name": "python3"
  },
  "language_info": {
   "codemirror_mode": {
    "name": "ipython",
    "version": 3
   },
   "file_extension": ".py",
   "mimetype": "text/x-python",
   "name": "python",
   "nbconvert_exporter": "python",
   "pygments_lexer": "ipython3",
   "version": "3.7.0"
  }
 },
 "nbformat": 4,
 "nbformat_minor": 2
}
