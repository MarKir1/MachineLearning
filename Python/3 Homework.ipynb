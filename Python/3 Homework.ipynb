{
 "cells": [
  {
   "cell_type": "markdown",
   "metadata": {},
   "source": [
    "### Problem 1\n",
    "#### In the file there is given string containing letters and numbers. In output file write a string where letter is repeated n times, where n is the next number after given letter.\n",
    "#### Example: a3b4c2e10b1 -> aaabbbbcceeeeeeeeeeb"
   ]
  },
  {
   "cell_type": "code",
   "execution_count": 2,
   "metadata": {},
   "outputs": [
    {
     "name": "stdout",
     "output_type": "stream",
     "text": [
      "a3b4c2e10b1\n",
      "aaabbbbcceeeeeeeeeeb"
     ]
    }
   ],
   "source": [
    "a = str(input())\n",
    "x = []\n",
    "for _ in range(len(a)):\n",
    "    if a[_].lower() in 'abcdefghigklmnopqrstuvwxyz':\n",
    "        x += a[_]\n",
    "        a = a[:_]+ \" \" + a[_+1:]\n",
    "y=a.split(\" \")[1:]\n",
    "for _ in range(len(x)):\n",
    "    print(x[_]*int(y[_]), end=\"\")"
   ]
  },
  {
   "cell_type": "markdown",
   "metadata": {},
   "source": [
    "### Problem 2\n",
    "#### Find the most frequent word in file. Ignore letter case.\n",
    "#### Example: abc a bCd bC AbC BC BCD bcd ABC -> abc"
   ]
  },
  {
   "cell_type": "code",
   "execution_count": 12,
   "metadata": {},
   "outputs": [
    {
     "name": "stdout",
     "output_type": "stream",
     "text": [
      "abc 3\n",
      "bcd 3\n"
     ]
    }
   ],
   "source": [
    "import re\n",
    "frequency = {}\n",
    "document_text = open('test.txt', 'r')\n",
    "text_string = document_text.read().lower()\n",
    "match_pattern = re.findall(r'\\b[a-z]{3,15}\\b', text_string)\n",
    " \n",
    "for word in match_pattern:\n",
    "    count = frequency.get(word,0)\n",
    "    frequency[word] = count + 1\n",
    "     \n",
    "frequency_list = frequency.keys()\n",
    " \n",
    "for words in frequency_list:\n",
    "    print (words, frequency[words])"
   ]
  },
  {
   "cell_type": "code",
   "execution_count": 6,
   "metadata": {},
   "outputs": [
    {
     "data": {
      "text/plain": [
       "{'abc a bcd bc abc bc bcd bcd abc'}"
      ]
     },
     "execution_count": 6,
     "metadata": {},
     "output_type": "execute_result"
    }
   ],
   "source": [
    "y = {string.lower()}\n",
    "y"
   ]
  },
  {
   "cell_type": "markdown",
   "metadata": {},
   "source": [
    "### Problem 3\n",
    "##### We have a dictionary of known words and K sentences. We need to find the words from sentences which are not in dictionary.\n",
    "#### Example:\n",
    "\n",
    "#### 3\n",
    "#### a\n",
    "#### bb\n",
    "#### cCc\n",
    "#### 2\n",
    "#### a bb aab aba ccc\n",
    "#### c bb aaa\n",
    "\n",
    "#### Output is: aab aba c aaa"
   ]
  },
  {
   "cell_type": "code",
   "execution_count": 3,
   "metadata": {},
   "outputs": [
    {
     "name": "stdout",
     "output_type": "stream",
     "text": [
      "3\n",
      "a\n",
      "bb\n",
      "cCc\n",
      "2\n",
      "a bb aab aba ccc\n",
      "c bb aaa\n",
      "aab\n",
      "aba\n",
      "c\n",
      "aaa\n"
     ]
    }
   ],
   "source": [
    "dictionary = []\n",
    "\n",
    "for _ in range(int(input())):\n",
    "    word = str(input()).lower()\n",
    "    if word not in dictionary:\n",
    "        dictionary.append(word)\n",
    "\n",
    "word_not_from_dict = []\n",
    "for _ in range(int(input())):\n",
    "    sentence = [word1.lower() for word1 in str(input()).split()]\n",
    "    for word1 in sentence:\n",
    "        if word1 not in dictionary:\n",
    "            word_not_from_dict.append(word1)\n",
    "\n",
    "for x in word_not_from_dict:\n",
    "    print(x)"
   ]
  },
  {
   "cell_type": "markdown",
   "metadata": {},
   "source": [
    "### Problem 4\n",
    "#### Construct a Binary Search Tree"
   ]
  },
  {
   "cell_type": "code",
   "execution_count": null,
   "metadata": {},
   "outputs": [],
   "source": [
    "class BinaryNode:\n",
    "    def __init__(self, v):\n",
    "        self.val = v\n",
    "        self.leftChild = None\n",
    "        self.rightChild = None\n",
    "    def get(self):\n",
    "        return self.val\n",
    "    def set(self, v):\n",
    "        self.val = v\n",
    "    def getChildren(self):\n",
    "        children = []\n",
    "        if self.leftChild != None:\n",
    "            children.append(self.leftChild)\n",
    "        if self.rightChild != None:\n",
    "            children.append(self.rightChild)\n",
    "        return children\n",
    "\n",
    "class Tree:\n",
    "    def __init__(self):\n",
    "        self.root = None\n",
    "    def setRoot(self, node):\n",
    "        self.root = node\n",
    "    def size(self):\n",
    "        if self.root == None:\n",
    "            return 0\n",
    "    def subtreeSize(node):\n",
    "        return 1 + sum(subtreeSize(c) for c in node.getChildren())\n",
    "        return subtreeSize(self.root)\n",
    "\n",
    "class BinarySearchTree(Tree):\n",
    "    def insert(self, val):\n",
    "        self.insertNode(self.root, val)\n",
    "\n",
    "    def insertNode(self, node, val):\n",
    "        if node is None:\n",
    "            self.setRoot(BinaryNode(val))\n",
    "        elif val <= node.val:\n",
    "            node.leftChild = insertNode(BinaryNode(val), val)\n",
    "        elif val > node.val:\n",
    "            node.rightChild = insertNode(BinaryNode(val), val)\n",
    "        else:\n",
    "            node.val = val\n",
    "\n",
    "    def find(self, val):\n",
    "        self.findNode(self.root, val)\n",
    "\n",
    "    def findNode(self, node, val):\n",
    "        if node is None:\n",
    "            return False\n",
    "        elif val == node.val:\n",
    "            return True\n",
    "        elif val < node.val:\n",
    "            self.findNode(val, node.leftChild)\n",
    "        else:\n",
    "            self.findNode(val, node.rightChild)\n",
    "\n",
    "if __name__ == \"__main__\":\n",
    "    btree = BinarySearchTree()\n",
    "    vals = [5]\n",
    "    for v in vals:\n",
    "        btree.insert(v)\n",
    "    tests = [8, 5]\n",
    "    for t in tests:\n",
    "        print (\"find(%i) = %s\" % (t, (\"True\" if btree.find(t) else \"False\")))"
   ]
  }
 ],
 "metadata": {
  "kernelspec": {
   "display_name": "Python 3",
   "language": "python",
   "name": "python3"
  },
  "language_info": {
   "codemirror_mode": {
    "name": "ipython",
    "version": 3
   },
   "file_extension": ".py",
   "mimetype": "text/x-python",
   "name": "python",
   "nbconvert_exporter": "python",
   "pygments_lexer": "ipython3",
   "version": "3.7.0"
  }
 },
 "nbformat": 4,
 "nbformat_minor": 2
}
