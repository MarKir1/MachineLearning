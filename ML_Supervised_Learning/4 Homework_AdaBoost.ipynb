{
 "cells": [
  {
   "cell_type": "code",
   "execution_count": 26,
   "metadata": {},
   "outputs": [],
   "source": [
    "import numpy as np\n",
    "from sklearn import datasets\n",
    "import matplotlib.pyplot as plt\n",
    "import pandas as pd\n",
    "import sklearn\n",
    "import math\n",
    "import sys\n",
    "import os\n",
    "from sklearn.cross_validation import train_test_split\n",
    "from sklearn.metrics import accuracy_score\n",
    "from sklearn.decomposition import PCA"
   ]
  },
  {
   "cell_type": "code",
   "execution_count": 27,
   "metadata": {},
   "outputs": [],
   "source": [
    "class DecisionStump():\n",
    "    def __init__(self):\n",
    "        self.polarity = 1\n",
    "        self.feature_index = None\n",
    "        self.threshold = None\n",
    "        self.alpha = None"
   ]
  },
  {
   "cell_type": "code",
   "execution_count": 28,
   "metadata": {},
   "outputs": [],
   "source": [
    "class AdaBoost():\n",
    "    def __init__(self, n_classifier=5):\n",
    "        self.n_classifier = n_classifier\n",
    "        # List of weak classifiers\n",
    "        self.classifiers = []\n",
    " \n",
    "    def fit(self, X, y):\n",
    " \n",
    "        n_samples, n_features = np.shape(X)\n",
    " \n",
    "        w = np.full(n_samples, (1 / n_samples))\n",
    "         \n",
    "        for _ in range(self.n_classifier):\n",
    "            classifier = DecisionStump()\n",
    "            min_error = 1\n",
    "            for feature_i in range(n_features):\n",
    "                feature_values = np.expand_dims(X[:, feature_i], axis=1)\n",
    "                unique_values = np.unique(feature_values)\n",
    "                for threshold in unique_values:\n",
    "                    p = 1\n",
    "                    prediction = np.ones(np.shape(y))\n",
    "                    prediction[X[:, feature_i] < threshold] = -1\n",
    "                    error = sum(w[y != prediction])\n",
    "                     \n",
    "                    if error > 0.5:\n",
    "                        error = 1 - error\n",
    "                        p = -1\n",
    " \n",
    "                    if error < min_error:\n",
    "                        classifier.polarity = p\n",
    "                        classifier.threshold = threshold\n",
    "                        classifier.feature_index = feature_i\n",
    "                        min_error = error\n",
    "            \n",
    "            classifier.alpha = 0.5 * math.log((1.0 - min_error) / (min_error + 1e-10))\n",
    " \n",
    "            predictions = np.ones(np.shape(y))\n",
    "            negative_index = (classifier.polarity * X[:, classifier.feature_index] < classifier.polarity * classifier.threshold)\n",
    "            predictions[negative_index] = -1\n",
    " \n",
    "            w = w.dot(np.exp(classifier.alpha * y.dot(predictions)))\n",
    "            w /= np.sum(w)\n",
    "            self.classifiers.append(classifier)\n",
    " \n",
    "    def predict(self, X):\n",
    "        n_samples = np.shape(X)[0]\n",
    "        y_predicted = np.zeros((n_samples, 1))\n",
    "        for classifier in self.classifiers:\n",
    "            predictions = np.ones(np.shape(y_predicted))\n",
    "            negative_index = (classifier.polarity * X[:, classifier.feature_index] < classifier.polarity * classifier.threshold)\n",
    "            predictions[negative_index] = -1\n",
    "            y_predicted = np.concatenate((y_predicted, classifier.alpha * predictions), axis=1)\n",
    "        y_predicted = np.sign(np.sum(y_predicted, axis=1))\n",
    " \n",
    "        return y_predicted"
   ]
  },
  {
   "cell_type": "code",
   "execution_count": 29,
   "metadata": {},
   "outputs": [
    {
     "name": "stdout",
     "output_type": "stream",
     "text": [
      "Accuracy: 0.98\n"
     ]
    }
   ],
   "source": [
    "def main():\n",
    "    data = datasets.load_iris()\n",
    "    X = data.data\n",
    "    y = data.target\n",
    " \n",
    "    X = X[y != 2]\n",
    "    y = y[y != 2]\n",
    "    y[y == 0] = -1\n",
    "    y[y == 1] = 1\n",
    " \n",
    "    X_train, X_test, y_train, y_test = train_test_split(X, y, test_size=0.5)\n",
    " \n",
    "    classifier = AdaBoost(n_classifier=10)\n",
    "    classifier.fit(X_train, y_train)\n",
    "    y_predicted = classifier.predict(X_test)\n",
    " \n",
    "    accuracy = accuracy_score(y_test, y_predicted)\n",
    " \n",
    "    print (\"Accuracy:\", accuracy)\n",
    "  \n",
    "if __name__ == \"__main__\":\n",
    "    main()"
   ]
  }
 ],
 "metadata": {
  "kernelspec": {
   "display_name": "Python 3",
   "language": "python",
   "name": "python3"
  },
  "language_info": {
   "codemirror_mode": {
    "name": "ipython",
    "version": 3
   },
   "file_extension": ".py",
   "mimetype": "text/x-python",
   "name": "python",
   "nbconvert_exporter": "python",
   "pygments_lexer": "ipython3",
   "version": "3.7.0"
  }
 },
 "nbformat": 4,
 "nbformat_minor": 2
}
