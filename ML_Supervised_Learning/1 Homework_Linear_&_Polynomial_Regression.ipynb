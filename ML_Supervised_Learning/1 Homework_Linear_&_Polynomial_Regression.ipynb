{
 "cells": [
  {
   "cell_type": "markdown",
   "metadata": {},
   "source": [
    "# Fundamentals of Learning\n"
   ]
  },
  {
   "cell_type": "markdown",
   "metadata": {},
   "source": [
    "# Homework"
   ]
  },
  {
   "cell_type": "code",
   "execution_count": 45,
   "metadata": {},
   "outputs": [],
   "source": [
    "import numpy as np\n",
    "import matplotlib.pyplot as plt\n",
    "\n",
    "def fit_linear_regression(X, Y):\n",
    "    \"\"\"\n",
    "    :param X: A numpy matrix, where each row is a data element (X)\n",
    "    :param Y: A list of responses for each of the rows (y)\n",
    "    :return: An array of parameters\n",
    "    \"\"\"\n",
    "    N = np.size(X)\n",
    "    X_Mean = np.mean(X)\n",
    "    Y_Mean = np.mean(Y)\n",
    " \n",
    "    F_XY = np.sum(Y * X - N * Y_Mean * X_Mean)\n",
    "    F_XX = np.sum(X * X - N * X_Mean * X_Mean)\n",
    " \n",
    "    a = F_XY / F_XX\n",
    "    b = Y_Mean - a * X_Mean\n",
    " \n",
    "    return(b, a)"
   ]
  },
  {
   "cell_type": "code",
   "execution_count": 46,
   "metadata": {},
   "outputs": [],
   "source": [
    "def plot(X, Y, Param):\n",
    "\n",
    "    plt.scatter(X, Y, color = \"g\", marker = \"o\", s = 30)\n",
    " \n",
    "    Y_Predicted = Param[1] * X + Param[0]\n",
    " \n",
    "    plt.plot(X, Y_Predicted, color = \"m\")\n",
    " \n",
    "    plt.xlabel('X')\n",
    "    plt.ylabel('Y')\n",
    " \n",
    "    plt.show()"
   ]
  },
  {
   "cell_type": "code",
   "execution_count": 47,
   "metadata": {},
   "outputs": [
    {
     "data": {
      "image/png": "[encoded data removed]",
      "text/plain": [
       "<matplotlib.figure.Figure at 0x1b80ae3eac8>"
      ]
     },
     "metadata": {},
     "output_type": "display_data"
    }
   ],
   "source": [
    " def main():\n",
    "    X = np.arange(10)\n",
    "    Y = np.array([2, 4, 3, 6, 8, 9, 9, 10, 11, 13])\n",
    " \n",
    "    Param = fit_linear_regression(X, Y)\n",
    "\n",
    "    plot(X, Y, Param)\n",
    " \n",
    "if __name__ == \"__main__\":\n",
    "    main()"
   ]
  },
  {
   "cell_type": "code",
   "execution_count": 48,
   "metadata": {},
   "outputs": [
    {
     "name": "stdout",
     "output_type": "stream",
     "text": [
      "1\n",
      "4.0\n"
     ]
    },
    {
     "data": {
      "image/png": "[encoded data removed]",
      "text/plain": [
       "<matplotlib.figure.Figure at 0x1b80aea9860>"
      ]
     },
     "metadata": {},
     "output_type": "display_data"
    }
   ],
   "source": [
    "import math\n",
    "\n",
    "X = np.array([2,3,4,6,7,8,5,8,9,10,6,7,12,8,7,7,11,12,12,13,14,14,15])\n",
    "Y=np.array([3,4,6,7,12,15,10,20,16,20,16,17,15,8,14,14,15,14,15,26,27,28,34])\n",
    "\n",
    "Params = np.polyfit(X, Y, 2)\n",
    "\n",
    "a = Params[0]\n",
    "b = Params[1]\n",
    "c = Params[2]\n",
    "\n",
    "x = np.linspace(np.min(X), np.max(X))   \n",
    "\n",
    "y = a * x ** 2 + b * x + c \n",
    "\n",
    "X_Predicted = float(input())      \n",
    "Y_Predicted = a * X_Predicted ** 2 + b * X_Predicted + c   \n",
    "\n",
    "plt.scatter(X,Y, s=20, color=\"g\" )      \n",
    "plt.scatter(X_Predicted, Y_Predicted, color=\"m\")    \n",
    "plt.plot(x, y, color=\"b\", linewidth=1)      \n",
    "\n",
    "print(round(Y_Predicted,2))"
   ]
  },
  {
   "cell_type": "code",
   "execution_count": 49,
   "metadata": {},
   "outputs": [],
   "source": [
    "import numpy as np\n",
    "import scipy as sp\n",
    "import matplotlib as mpl\n",
    "import matplotlib.cm as cm\n",
    "import matplotlib.pyplot as plt\n",
    "import pandas as pd\n",
    "import seaborn as sns\n",
    "from sklearn.cross_validation import train_test_split\n",
    "from sklearn.preprocessing import PolynomialFeatures\n",
    "from sklearn.linear_model import LinearRegression\n",
    "from sklearn.metrics import mean_squared_error"
   ]
  },
  {
   "cell_type": "code",
   "execution_count": 50,
   "metadata": {},
   "outputs": [],
   "source": [
    "df = pd.DataFrame({'x': np.random.uniform(size=1500),\n",
    "     'y': np.random.uniform(size=1500)})"
   ]
  },
  {
   "cell_type": "code",
   "execution_count": 51,
   "metadata": {},
   "outputs": [
    {
     "data": {
      "text/html": [
       "<div>\n",
       "<style scoped>\n",
       "    .dataframe tbody tr th:only-of-type {\n",
       "        vertical-align: middle;\n",
       "    }\n",
       "\n",
       "    .dataframe tbody tr th {\n",
       "        vertical-align: top;\n",
       "    }\n",
       "\n",
       "    .dataframe thead th {\n",
       "        text-align: right;\n",
       "    }\n",
       "</style>\n",
       "<table border=\"1\" class=\"dataframe\">\n",
       "  <thead>\n",
       "    <tr style=\"text-align: right;\">\n",
       "      <th></th>\n",
       "      <th>x</th>\n",
       "      <th>y</th>\n",
       "    </tr>\n",
       "  </thead>\n",
       "  <tbody>\n",
       "    <tr>\n",
       "      <th>0</th>\n",
       "      <td>0.975143</td>\n",
       "      <td>0.546112</td>\n",
       "    </tr>\n",
       "    <tr>\n",
       "      <th>1</th>\n",
       "      <td>0.823112</td>\n",
       "      <td>0.183171</td>\n",
       "    </tr>\n",
       "    <tr>\n",
       "      <th>2</th>\n",
       "      <td>0.857508</td>\n",
       "      <td>0.624283</td>\n",
       "    </tr>\n",
       "    <tr>\n",
       "      <th>3</th>\n",
       "      <td>0.751008</td>\n",
       "      <td>0.587520</td>\n",
       "    </tr>\n",
       "    <tr>\n",
       "      <th>4</th>\n",
       "      <td>0.317447</td>\n",
       "      <td>0.852668</td>\n",
       "    </tr>\n",
       "  </tbody>\n",
       "</table>\n",
       "</div>"
      ],
      "text/plain": [
       "          x         y\n",
       "0  0.975143  0.546112\n",
       "1  0.823112  0.183171\n",
       "2  0.857508  0.624283\n",
       "3  0.751008  0.587520\n",
       "4  0.317447  0.852668"
      ]
     },
     "execution_count": 51,
     "metadata": {},
     "output_type": "execute_result"
    }
   ],
   "source": [
    "df.head()"
   ]
  },
  {
   "cell_type": "code",
   "execution_count": 52,
   "metadata": {},
   "outputs": [],
   "source": [
    "# Return a tuple representing the dimensionality of the DataFrame\n",
    "datasize = df.shape[0]\n",
    "# Split arrays into random train and test subsets\n",
    "itrain,itest = train_test_split(range(30),train_size=24, test_size=6)\n",
    "xtrain= df.x[itrain].values\n",
    "ytrain = df.y[itrain].values\n",
    "xtest= df.x[itest].values\n",
    "ytest = df.y[itest].values"
   ]
  },
  {
   "cell_type": "code",
   "execution_count": 53,
   "metadata": {},
   "outputs": [
    {
     "data": {
      "text/plain": [
       "array([0.70848407, 0.75780731, 0.70210814, 0.95369425, 0.94550163,\n",
       "       0.83326343, 0.00225897, 0.82311221, 0.85750848, 0.61937613,\n",
       "       0.31744664, 0.12424909, 0.95371776, 0.18107897, 0.92048309,\n",
       "       0.88246513, 0.85378268, 0.24209465, 0.97514312, 0.3819945 ,\n",
       "       0.75100789, 0.99368176, 0.34298796, 0.49396685])"
      ]
     },
     "execution_count": 53,
     "metadata": {},
     "output_type": "execute_result"
    }
   ],
   "source": [
    "xtrain"
   ]
  },
  {
   "cell_type": "code",
   "execution_count": 54,
   "metadata": {},
   "outputs": [],
   "source": [
    "def make_features(train_set, test_set, degrees):\n",
    "    traintestlist=[]\n",
    "    for d in degrees:\n",
    "        traintestdict={}\n",
    "        traintestdict['train'] = PolynomialFeatures(d).fit_transform(train_set.reshape(-1,1)) # Generate polynomial and interaction features.\n",
    "        traintestdict['test'] = PolynomialFeatures(d).fit_transform(test_set.reshape(-1,1))\n",
    "        traintestlist.append(traintestdict)\n",
    "    return traintestlist"
   ]
  },
  {
   "cell_type": "code",
   "execution_count": 55,
   "metadata": {},
   "outputs": [
    {
     "data": {
      "image/png": "[encoded data removed]",
      "text/plain": [
       "<matplotlib.figure.Figure at 0x1b80b11a9b0>"
      ]
     },
     "metadata": {},
     "output_type": "display_data"
    }
   ],
   "source": [
    "degrees=range(21)\n",
    "error_train=np.empty(len(degrees))\n",
    "error_test=np.empty(len(degrees))\n",
    "\n",
    "traintestlists=make_features(xtrain, xtest, degrees)\n",
    "\n",
    "for d in degrees: # For increasing polynomial degrees 0,1,2...\n",
    "    Xtrain = traintestlists[d]['train']\n",
    "    Xtest = traintestlists[d]['test']\n",
    "    # Set up model\n",
    "    est = LinearRegression()\n",
    "    # Fit\n",
    "    est.fit(Xtrain, ytrain)\n",
    "    # Predict\n",
    "    prediction_on_training = est.predict(Xtrain)\n",
    "    prediction_on_test = est.predict(Xtest)\n",
    "    # Calculate mean squared error\n",
    "    error_train[d] = mean_squared_error(ytrain, prediction_on_training)\n",
    "    error_test[d] = mean_squared_error(ytest, prediction_on_test)\n",
    "\n",
    "plt.plot(degrees, error_train, marker='o', label='train (in-sample)')\n",
    "plt.plot(degrees, error_test, marker='o', label='test')\n",
    "plt.axvline(np.argmin(error_test), 0,0.5, color='r', label=\"min test error at d=%d\"%np.argmin(error_test), alpha=0.3)\n",
    "plt.ylabel('mean squared error')\n",
    "plt.xlabel('degree')\n",
    "plt.legend(loc='upper left')\n",
    "plt.yscale(\"log\")"
   ]
  }
 ],
 "metadata": {
  "kernelspec": {
   "display_name": "Python 3",
   "language": "python",
   "name": "python3"
  },
  "language_info": {
   "codemirror_mode": {
    "name": "ipython",
    "version": 3
   },
   "file_extension": ".py",
   "mimetype": "text/x-python",
   "name": "python",
   "nbconvert_exporter": "python",
   "pygments_lexer": "ipython3",
   "version": "3.7.0"
  }
 },
 "nbformat": 4,
 "nbformat_minor": 2
}
