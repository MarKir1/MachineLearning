{
 "cells": [
  {
   "cell_type": "markdown",
   "metadata": {},
   "source": [
    "# MNIST master\n",
    "\n",
    "For a demo we shall solve the same digit recognition problem, but at a different scale\n",
    "* images are now 28x28\n",
    "* 10 different digits\n",
    "* 50k samples"
   ]
  },
  {
   "cell_type": "markdown",
   "metadata": {},
   "source": [
    "Before doing this homework, read some code examples written in tensorflow. There is a good repository with code examples: https://github.com/aymericdamien/TensorFlow-Examples. As we already know, we need many samples to learn :)"
   ]
  },
  {
   "cell_type": "code",
   "execution_count": 1,
   "metadata": {},
   "outputs": [],
   "source": [
    "import numpy as np\n",
    "import matplotlib.pyplot as plt\n",
    "%matplotlib inline"
   ]
  },
  {
   "cell_type": "code",
   "execution_count": 2,
   "metadata": {},
   "outputs": [],
   "source": [
    "import tensorflow as tf"
   ]
  },
  {
   "cell_type": "code",
   "execution_count": 3,
   "metadata": {},
   "outputs": [
    {
     "name": "stdout",
     "output_type": "stream",
     "text": [
      "(50000, 28, 28, 1) (50000,)\n"
     ]
    }
   ],
   "source": [
    "from mnist import load_dataset\n",
    "X_train,y_train,X_val,y_val,X_test,y_test = load_dataset()\n",
    "X_train = X_train.reshape(-1, 28, 28, 1)\n",
    "X_val = X_val.reshape(-1, 28, 28, 1)\n",
    "X_test = X_test.reshape(-1, 28, 28, 1)\n",
    "\n",
    "print(X_train.shape,y_train.shape)"
   ]
  },
  {
   "cell_type": "code",
   "execution_count": 4,
   "metadata": {},
   "outputs": [
    {
     "data": {
      "text/plain": [
       "(50000, 28, 28, 1)"
      ]
     },
     "execution_count": 4,
     "metadata": {},
     "output_type": "execute_result"
    }
   ],
   "source": [
    "X_train.shape"
   ]
  },
  {
   "cell_type": "code",
   "execution_count": 5,
   "metadata": {},
   "outputs": [
    {
     "data": {
      "text/plain": [
       "4"
      ]
     },
     "execution_count": 5,
     "metadata": {},
     "output_type": "execute_result"
    },
    {
     "data": {
      "image/png": "[encoded data removed]",
      "text/plain": [
       "<Figure size 432x288 with 1 Axes>"
      ]
     },
     "metadata": {},
     "output_type": "display_data"
    }
   ],
   "source": [
    "plt.imshow(-X_train[20, :, :, 0], cmap=\"jet\")\n",
    "y_train[20]"
   ]
  },
  {
   "cell_type": "code",
   "execution_count": 6,
   "metadata": {},
   "outputs": [],
   "source": [
    "#defining placeholders for input and target\n",
    "input_X = tf.placeholder(tf.float32, shape=[None, 28, 28, 1], \n",
    "                         name=\"X\")\n",
    "target_y = tf.placeholder(tf.int32, shape=[None], \n",
    "                          name=\"target_Y_integer\")"
   ]
  },
  {
   "cell_type": "markdown",
   "metadata": {},
   "source": [
    "Defining network architecture"
   ]
  },
  {
   "cell_type": "code",
   "execution_count": 7,
   "metadata": {},
   "outputs": [],
   "source": [
    "# I used this example --- https://github.com/aymericdamien/TensorFlow-Examples/blob/master/examples/3_NeuralNetworks/convolutional_network.py\n",
    "# flatten images to (batch_size x 728) matrix\n",
    "input_X_reshaped = tf.reshape(input_X, shape=[-1, 28, 28, 1], \n",
    "                              name=\"reshape_X\")\n",
    "\n",
    "# Fully connected layer, that takes input layer and applies 50 neurons \n",
    "# to it. Nonlinearity here is sigmoid as in logistic regression.\n",
    "# You can give a name to each layer (optional)\n",
    "\n",
    "# Convolution Layer with 32 filters and a kernel size of 5\n",
    "conv1 = tf.layers.conv2d(input_X_reshaped, 32, 5, activation=tf.nn.relu)\n",
    "# Max Pooling (down-sampling) with strides of 2 and kernel size of 2\n",
    "conv1 = tf.layers.max_pooling2d(conv1, 2, 2)\n",
    "# Convolution Layer with 64 filters and a kernel size of 3\n",
    "conv2 = tf.layers.conv2d(conv1, 64, 3, activation=tf.nn.relu)\n",
    "# Max Pooling (down-sampling) with strides of 2 and kernel size of 2\n",
    "conv2 = tf.layers.max_pooling2d(conv2, 2, 2) \n",
    "# Flatten the data to a 1-D vector for the fully connected layer\n",
    "fc1 = tf.layers.flatten(conv2)\n",
    "# Fully connected layer (in tf contrib folder for now)\n",
    "fc1 = tf.layers.dense(fc1, 1024, activation=tf.nn.relu)\n",
    "# Apply Dropout (if is_training is False, dropout is not applied)\n",
    "fc1 = tf.layers.dropout(fc1, rate=0.25)\n",
    "# Fully connected layer (in tf contrib folder for now)\n",
    "fc1 = tf.layers.dense(fc1, 10)\n",
    "\n",
    "# Output layer, class prediction\n",
    "out = tf.nn.softmax(fc1)\n",
    "\n",
    "# Prediction\n",
    "y_predicted = tf.argmax(out, axis=-1)"
   ]
  },
  {
   "cell_type": "code",
   "execution_count": 8,
   "metadata": {},
   "outputs": [
    {
     "data": {
      "text/plain": [
       "[<tf.Variable 'conv2d/kernel:0' shape=(5, 5, 1, 32) dtype=float32_ref>,\n",
       " <tf.Variable 'conv2d/bias:0' shape=(32,) dtype=float32_ref>,\n",
       " <tf.Variable 'conv2d_1/kernel:0' shape=(3, 3, 32, 64) dtype=float32_ref>,\n",
       " <tf.Variable 'conv2d_1/bias:0' shape=(64,) dtype=float32_ref>,\n",
       " <tf.Variable 'dense/kernel:0' shape=(1600, 1024) dtype=float32_ref>,\n",
       " <tf.Variable 'dense/bias:0' shape=(1024,) dtype=float32_ref>,\n",
       " <tf.Variable 'dense_1/kernel:0' shape=(1024, 10) dtype=float32_ref>,\n",
       " <tf.Variable 'dense_1/bias:0' shape=(10,) dtype=float32_ref>]"
      ]
     },
     "execution_count": 8,
     "metadata": {},
     "output_type": "execute_result"
    }
   ],
   "source": [
    "weights = tf.trainable_variables()\n",
    "weights"
   ]
  },
  {
   "cell_type": "markdown",
   "metadata": {},
   "source": [
    "### Than you could simply\n",
    "* define loss function manually\n",
    "* compute error gradient over all weights\n",
    "* define updates\n",
    "* But that's a whole lot of work and life's short\n",
    "  * not to mention life's too short to wait for SGD to converge\n",
    "\n",
    "Instead, we shall use Tensorflow builtins"
   ]
  },
  {
   "cell_type": "code",
   "execution_count": 9,
   "metadata": {},
   "outputs": [],
   "source": [
    "# Mean categorical crossentropy as a loss function\n",
    "# - similar to logistic loss but for multiclass targets\n",
    "loss = tf.reduce_mean(tf.nn.sparse_softmax_cross_entropy_with_logits(\n",
    "    labels=target_y, logits=out, name=\"softmax_loss\"))"
   ]
  },
  {
   "cell_type": "code",
   "execution_count": 10,
   "metadata": {},
   "outputs": [
    {
     "data": {
      "text/plain": [
       "[<tf.Variable 'accuracy/total:0' shape=() dtype=float32_ref>,\n",
       " <tf.Variable 'accuracy/count:0' shape=() dtype=float32_ref>]"
      ]
     },
     "execution_count": 10,
     "metadata": {},
     "output_type": "execute_result"
    }
   ],
   "source": [
    "accuracy, update_accuracy = tf.metrics.accuracy(target_y, y_predicted)\n",
    "tf.local_variables()"
   ]
  },
  {
   "cell_type": "code",
   "execution_count": 11,
   "metadata": {},
   "outputs": [],
   "source": [
    "optimzer = tf.train.AdamOptimizer(learning_rate=0.001)\n",
    "train_step = optimzer.minimize(loss)"
   ]
  },
  {
   "cell_type": "markdown",
   "metadata": {},
   "source": [
    "### That's all, now let's train it!\n",
    "* We got a lot of data, so it's recommended that you use SGD\n",
    "* So let's implement a function that splits the training sample into minibatches"
   ]
  },
  {
   "cell_type": "code",
   "execution_count": 12,
   "metadata": {},
   "outputs": [],
   "source": [
    "# An auxilary function that returns mini-batches for neural network training\n",
    "\n",
    "#Parameters\n",
    "# inputs - a tensor of images with shape (many, 1, 28, 28), e.g. X_train\n",
    "# outputs - a vector of answers for corresponding images e.g. Y_train\n",
    "#batch_size - a single number - the intended size of each batches\n",
    "\n",
    "def iterate_minibatches(inputs, targets, batchsize):\n",
    "    assert len(inputs) == len(targets)\n",
    "    indices = np.arange(len(inputs))\n",
    "    np.random.shuffle(indices)\n",
    "    for start_idx in range(0, len(inputs) - batchsize + 1, batchsize):\n",
    "        excerpt = indices[start_idx:start_idx + batchsize]\n",
    "        yield inputs[excerpt], targets[excerpt]"
   ]
  },
  {
   "cell_type": "markdown",
   "metadata": {},
   "source": [
    "# Training loop"
   ]
  },
  {
   "cell_type": "markdown",
   "metadata": {},
   "source": [
    "Model saver.\n",
    "<br>\n",
    "See more:\n",
    "http://cv-tricks.com/tensorflow-tutorial/save-restore-tensorflow-models-quick-complete-tutorial/"
   ]
  },
  {
   "cell_type": "code",
   "execution_count": 13,
   "metadata": {},
   "outputs": [],
   "source": [
    "model_path = \"./checkpoints/model.ckpt\"\n",
    "saver = tf.train.Saver(max_to_keep=3)"
   ]
  },
  {
   "cell_type": "code",
   "execution_count": 14,
   "metadata": {
    "scrolled": true
   },
   "outputs": [
    {
     "name": "stdout",
     "output_type": "stream",
     "text": [
      "Epoch 1 of 40 took 59.111s\n",
      "  training loss (in-iteration):\t\t1.673843\n",
      "  train accuracy:\t\t79.65 %\n",
      "  validation accuracy:\t\t87.48 %\n",
      "  Model saved in file: ./checkpoints/model.ckpt-0\n",
      "Epoch 2 of 40 took 64.498s\n",
      "  training loss (in-iteration):\t\t1.580530\n",
      "  train accuracy:\t\t88.12 %\n",
      "  validation accuracy:\t\t88.37 %\n",
      "  Model saved in file: ./checkpoints/model.ckpt-1\n",
      "Epoch 3 of 40 took 63.598s\n",
      "  training loss (in-iteration):\t\t1.572574\n",
      "  train accuracy:\t\t88.84 %\n",
      "  validation accuracy:\t\t88.72 %\n",
      "  Model saved in file: ./checkpoints/model.ckpt-2\n",
      "Epoch 4 of 40 took 65.122s\n",
      "  training loss (in-iteration):\t\t1.566853\n",
      "  train accuracy:\t\t89.40 %\n",
      "  validation accuracy:\t\t97.30 %\n",
      "  Model saved in file: ./checkpoints/model.ckpt-3\n",
      "Epoch 5 of 40 took 68.747s\n",
      "  training loss (in-iteration):\t\t1.480180\n",
      "  train accuracy:\t\t98.26 %\n",
      "  validation accuracy:\t\t97.79 %\n",
      "  Model saved in file: ./checkpoints/model.ckpt-4\n",
      "Epoch 6 of 40 took 61.041s\n",
      "  training loss (in-iteration):\t\t1.475595\n",
      "  train accuracy:\t\t98.65 %\n",
      "  validation accuracy:\t\t98.37 %\n",
      "  Model saved in file: ./checkpoints/model.ckpt-5\n",
      "Epoch 7 of 40 took 57.283s\n",
      "  training loss (in-iteration):\t\t1.472107\n",
      "  train accuracy:\t\t98.97 %\n",
      "  validation accuracy:\t\t98.84 %\n",
      "  Model saved in file: ./checkpoints/model.ckpt-6\n",
      "Epoch 8 of 40 took 57.596s\n",
      "  training loss (in-iteration):\t\t1.470419\n",
      "  train accuracy:\t\t99.12 %\n",
      "  validation accuracy:\t\t98.78 %\n",
      "  Model saved in file: ./checkpoints/model.ckpt-7\n",
      "Epoch 9 of 40 took 58.017s\n",
      "  training loss (in-iteration):\t\t1.469562\n",
      "  train accuracy:\t\t99.22 %\n",
      "  validation accuracy:\t\t98.83 %\n",
      "  Model saved in file: ./checkpoints/model.ckpt-8\n",
      "Epoch 10 of 40 took 59.580s\n",
      "  training loss (in-iteration):\t\t1.468762\n",
      "  train accuracy:\t\t99.27 %\n",
      "  validation accuracy:\t\t98.84 %\n",
      "  Model saved in file: ./checkpoints/model.ckpt-9\n",
      "Epoch 11 of 40 took 58.143s\n",
      "  training loss (in-iteration):\t\t1.467867\n",
      "  train accuracy:\t\t99.37 %\n",
      "  validation accuracy:\t\t98.88 %\n",
      "  Model saved in file: ./checkpoints/model.ckpt-10\n",
      "Epoch 12 of 40 took 58.611s\n",
      "  training loss (in-iteration):\t\t1.467321\n",
      "  train accuracy:\t\t99.45 %\n",
      "  validation accuracy:\t\t99.01 %\n",
      "  Model saved in file: ./checkpoints/model.ckpt-11\n",
      "Epoch 13 of 40 took 59.814s\n",
      "  training loss (in-iteration):\t\t1.466887\n",
      "  train accuracy:\t\t99.46 %\n",
      "  validation accuracy:\t\t99.07 %\n",
      "  Model saved in file: ./checkpoints/model.ckpt-12\n",
      "Epoch 14 of 40 took 59.470s\n",
      "  training loss (in-iteration):\t\t1.466765\n",
      "  train accuracy:\t\t99.47 %\n",
      "  validation accuracy:\t\t98.97 %\n",
      "  Model saved in file: ./checkpoints/model.ckpt-13\n",
      "Epoch 15 of 40 took 58.408s\n",
      "  training loss (in-iteration):\t\t1.465992\n",
      "  train accuracy:\t\t99.56 %\n",
      "  validation accuracy:\t\t99.07 %\n",
      "  Model saved in file: ./checkpoints/model.ckpt-14\n",
      "Epoch 16 of 40 took 57.299s\n",
      "  training loss (in-iteration):\t\t1.465773\n",
      "  train accuracy:\t\t99.56 %\n",
      "  validation accuracy:\t\t98.91 %\n",
      "  Model saved in file: ./checkpoints/model.ckpt-15\n",
      "Epoch 17 of 40 took 57.721s\n",
      "  training loss (in-iteration):\t\t1.465522\n",
      "  train accuracy:\t\t99.60 %\n",
      "  validation accuracy:\t\t98.86 %\n",
      "  Model saved in file: ./checkpoints/model.ckpt-16\n",
      "Epoch 18 of 40 took 57.955s\n",
      "  training loss (in-iteration):\t\t1.465363\n",
      "  train accuracy:\t\t99.61 %\n",
      "  validation accuracy:\t\t98.90 %\n",
      "  Model saved in file: ./checkpoints/model.ckpt-17\n",
      "Epoch 19 of 40 took 57.611s\n",
      "  training loss (in-iteration):\t\t1.465344\n",
      "  train accuracy:\t\t99.60 %\n",
      "  validation accuracy:\t\t99.09 %\n",
      "  Model saved in file: ./checkpoints/model.ckpt-18\n",
      "Epoch 20 of 40 took 56.721s\n",
      "  training loss (in-iteration):\t\t1.465422\n",
      "  train accuracy:\t\t99.59 %\n",
      "  validation accuracy:\t\t98.96 %\n",
      "  Model saved in file: ./checkpoints/model.ckpt-19\n",
      "Epoch 21 of 40 took 57.455s\n",
      "  training loss (in-iteration):\t\t1.465407\n",
      "  train accuracy:\t\t99.61 %\n",
      "  validation accuracy:\t\t99.05 %\n",
      "  Model saved in file: ./checkpoints/model.ckpt-20\n",
      "Epoch 22 of 40 took 60.017s\n",
      "  training loss (in-iteration):\t\t1.464964\n",
      "  train accuracy:\t\t99.63 %\n",
      "  validation accuracy:\t\t99.00 %\n",
      "  Model saved in file: ./checkpoints/model.ckpt-21\n",
      "Epoch 23 of 40 took 58.283s\n",
      "  training loss (in-iteration):\t\t1.464275\n",
      "  train accuracy:\t\t99.70 %\n",
      "  validation accuracy:\t\t99.05 %\n",
      "  Model saved in file: ./checkpoints/model.ckpt-22\n",
      "Epoch 24 of 40 took 60.444s\n",
      "  training loss (in-iteration):\t\t1.463944\n",
      "  train accuracy:\t\t99.73 %\n",
      "  validation accuracy:\t\t99.10 %\n",
      "  Model saved in file: ./checkpoints/model.ckpt-23\n",
      "Epoch 25 of 40 took 60.336s\n",
      "  training loss (in-iteration):\t\t1.464015\n",
      "  train accuracy:\t\t99.73 %\n",
      "  validation accuracy:\t\t99.15 %\n",
      "  Model saved in file: ./checkpoints/model.ckpt-24\n",
      "Epoch 26 of 40 took 60.996s\n",
      "  training loss (in-iteration):\t\t1.464364\n",
      "  train accuracy:\t\t99.70 %\n",
      "  validation accuracy:\t\t99.01 %\n",
      "  Model saved in file: ./checkpoints/model.ckpt-25\n",
      "Epoch 27 of 40 took 61.073s\n",
      "  training loss (in-iteration):\t\t1.464482\n",
      "  train accuracy:\t\t99.68 %\n",
      "  validation accuracy:\t\t99.05 %\n",
      "  Model saved in file: ./checkpoints/model.ckpt-26\n",
      "Epoch 28 of 40 took 59.897s\n",
      "  training loss (in-iteration):\t\t1.463970\n",
      "  train accuracy:\t\t99.73 %\n",
      "  validation accuracy:\t\t98.98 %\n",
      "  Model saved in file: ./checkpoints/model.ckpt-27\n",
      "Epoch 29 of 40 took 58.973s\n",
      "  training loss (in-iteration):\t\t1.464633\n",
      "  train accuracy:\t\t99.67 %\n",
      "  validation accuracy:\t\t98.94 %\n",
      "  Model saved in file: ./checkpoints/model.ckpt-28\n",
      "Epoch 30 of 40 took 61.813s\n",
      "  training loss (in-iteration):\t\t1.465152\n",
      "  train accuracy:\t\t99.61 %\n",
      "  validation accuracy:\t\t99.00 %\n",
      "  Model saved in file: ./checkpoints/model.ckpt-29\n",
      "Epoch 31 of 40 took 61.406s\n",
      "  training loss (in-iteration):\t\t1.464768\n",
      "  train accuracy:\t\t99.64 %\n",
      "  validation accuracy:\t\t99.07 %\n",
      "  Model saved in file: ./checkpoints/model.ckpt-30\n",
      "Epoch 32 of 40 took 60.169s\n",
      "  training loss (in-iteration):\t\t1.464088\n",
      "  train accuracy:\t\t99.71 %\n",
      "  validation accuracy:\t\t99.07 %\n",
      "  Model saved in file: ./checkpoints/model.ckpt-31\n",
      "Epoch 33 of 40 took 65.090s\n",
      "  training loss (in-iteration):\t\t1.464193\n",
      "  train accuracy:\t\t99.70 %\n",
      "  validation accuracy:\t\t99.11 %\n",
      "  Model saved in file: ./checkpoints/model.ckpt-32\n",
      "Epoch 34 of 40 took 61.565s\n",
      "  training loss (in-iteration):\t\t1.463822\n",
      "  train accuracy:\t\t99.74 %\n",
      "  validation accuracy:\t\t99.19 %\n",
      "  Model saved in file: ./checkpoints/model.ckpt-33\n",
      "Epoch 35 of 40 took 59.751s\n",
      "  training loss (in-iteration):\t\t1.463656\n",
      "  train accuracy:\t\t99.76 %\n",
      "  validation accuracy:\t\t99.16 %\n",
      "  Model saved in file: ./checkpoints/model.ckpt-34\n",
      "Epoch 36 of 40 took 59.945s\n",
      "  training loss (in-iteration):\t\t1.463823\n",
      "  train accuracy:\t\t99.74 %\n",
      "  validation accuracy:\t\t98.94 %\n",
      "  Model saved in file: ./checkpoints/model.ckpt-35\n",
      "Epoch 37 of 40 took 58.743s\n",
      "  training loss (in-iteration):\t\t1.463486\n",
      "  train accuracy:\t\t99.77 %\n",
      "  validation accuracy:\t\t99.01 %\n",
      "  Model saved in file: ./checkpoints/model.ckpt-36\n",
      "Epoch 38 of 40 took 58.721s\n",
      "  training loss (in-iteration):\t\t1.463988\n",
      "  train accuracy:\t\t99.72 %\n",
      "  validation accuracy:\t\t98.96 %\n",
      "  Model saved in file: ./checkpoints/model.ckpt-37\n",
      "Epoch 39 of 40 took 59.633s\n",
      "  training loss (in-iteration):\t\t1.464008\n",
      "  train accuracy:\t\t99.72 %\n",
      "  validation accuracy:\t\t99.16 %\n",
      "  Model saved in file: ./checkpoints/model.ckpt-38\n",
      "Epoch 40 of 40 took 64.912s\n",
      "  training loss (in-iteration):\t\t1.464995\n",
      "  train accuracy:\t\t99.62 %\n",
      "  validation accuracy:\t\t99.10 %\n",
      "  Model saved in file: ./checkpoints/model.ckpt-39\n"
     ]
    }
   ],
   "source": [
    "import time\n",
    "\n",
    "num_epochs = 40 # amount of passes through the data\n",
    "\n",
    "batch_size = 400 # number of samples processed at each function call\n",
    "\n",
    "with tf.Session() as sess:\n",
    "    # initialize global wariables\n",
    "    sess.run(tf.global_variables_initializer())\n",
    "    \n",
    "    for epoch in range(num_epochs):\n",
    "        # In each epoch, we do a full pass over the training data:\n",
    "        train_err = 0\n",
    "        train_batches = 0\n",
    "        start_time = time.time()\n",
    "\n",
    "        sess.run(tf.local_variables_initializer())\n",
    "        for batch in iterate_minibatches(X_train, y_train,batch_size):\n",
    "            inputs, targets = batch\n",
    "\n",
    "            _, train_err_batch, _ = sess.run(\n",
    "                [train_step, loss, update_accuracy], \n",
    "                feed_dict={input_X: inputs, target_y:targets}\n",
    "            )\n",
    "            train_err += train_err_batch\n",
    "            train_batches += 1\n",
    "        train_acc = sess.run(accuracy)\n",
    "\n",
    "        # And a full pass over the validation data:\n",
    "        sess.run(tf.local_variables_initializer())\n",
    "        for batch in iterate_minibatches(X_val, y_val, batch_size):\n",
    "            inputs, targets = batch\n",
    "            sess.run(update_accuracy, feed_dict={input_X: inputs, \n",
    "                                                 target_y:targets})\n",
    "        val_acc = sess.run(accuracy)\n",
    "\n",
    "\n",
    "        # Then we print the results for this epoch:\n",
    "        print(\"Epoch {} of {} took {:.3f}s\".format(\n",
    "            epoch + 1, num_epochs, time.time() - start_time))\n",
    "\n",
    "        print(\"  training loss (in-iteration):\\t\\t{:.6f}\".format(train_err / train_batches))\n",
    "        print(\"  train accuracy:\\t\\t{:.2f} %\".format(\n",
    "            train_acc * 100))\n",
    "        print(\"  validation accuracy:\\t\\t{:.2f} %\".format(\n",
    "            val_acc * 100))\n",
    "        \n",
    "        # save model\n",
    "        save_path = saver.save(sess, model_path, global_step=epoch)\n",
    "        print(\"  Model saved in file: %s\" % save_path)"
   ]
  },
  {
   "cell_type": "markdown",
   "metadata": {},
   "source": [
    "Now we can restore saved parameters:"
   ]
  },
  {
   "cell_type": "code",
   "execution_count": 15,
   "metadata": {},
   "outputs": [
    {
     "name": "stdout",
     "output_type": "stream",
     "text": [
      "INFO:tensorflow:Restoring parameters from ./checkpoints/model.ckpt-39\n",
      "Model restored from file: ./checkpoints/model.ckpt-39\n",
      "Final results:\n",
      "  test accuracy:\t\t99.18 %\n",
      "We need more magic!\n"
     ]
    }
   ],
   "source": [
    "with tf.Session() as sess:\n",
    "    sess.run(tf.global_variables_initializer())\n",
    "    load_path = saver.restore(sess, saver.last_checkpoints[-1])\n",
    "    print(\"Model restored from file: %s\" % save_path)\n",
    "    \n",
    "    sess.run(tf.local_variables_initializer())\n",
    "    for batch in iterate_minibatches(X_test, y_test, 500):\n",
    "        inputs, targets = batch\n",
    "        sess.run(update_accuracy, feed_dict={input_X: inputs, \n",
    "                                                   target_y:targets})\n",
    "    test_acc = sess.run(accuracy)\n",
    "    print(\"Final results:\")\n",
    "    print(\"  test accuracy:\\t\\t{:.2f} %\".format(\n",
    "        test_acc* 100))\n",
    "\n",
    "    if test_acc * 100 > 99.5:\n",
    "        print (\"Achievement unlocked: 80lvl Warlock!\")\n",
    "    else:\n",
    "        print (\"We need more magic!\")"
   ]
  }
 ],
 "metadata": {
  "kernelspec": {
   "display_name": "Python 3",
   "language": "python",
   "name": "python3"
  },
  "language_info": {
   "codemirror_mode": {
    "name": "ipython",
    "version": 3
   },
   "file_extension": ".py",
   "mimetype": "text/x-python",
   "name": "python",
   "nbconvert_exporter": "python",
   "pygments_lexer": "ipython3",
   "version": "3.7.0"
  }
 },
 "nbformat": 4,
 "nbformat_minor": 1
}
